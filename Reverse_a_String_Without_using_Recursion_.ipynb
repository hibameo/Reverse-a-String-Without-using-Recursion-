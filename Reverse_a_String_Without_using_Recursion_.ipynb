{
  "nbformat": 4,
  "nbformat_minor": 0,
  "metadata": {
    "colab": {
      "provenance": [],
      "authorship_tag": "ABX9TyO3EnDrLDEDxkWuO8/bqOeD",
      "include_colab_link": true
    },
    "kernelspec": {
      "name": "python3",
      "display_name": "Python 3"
    },
    "language_info": {
      "name": "python"
    }
  },
  "cells": [
    {
      "cell_type": "markdown",
      "metadata": {
        "id": "view-in-github",
        "colab_type": "text"
      },
      "source": [
        "<a href=\"https://colab.research.google.com/github/hibameo/Reverse-a-String-Without-using-Recursion-/blob/main/Reverse_a_String_Without_using_Recursion_.ipynb\" target=\"_parent\"><img src=\"https://colab.research.google.com/assets/colab-badge.svg\" alt=\"Open In Colab\"/></a>"
      ]
    },
    {
      "cell_type": "markdown",
      "source": [
        "\n",
        "Agar ap recursion ke bina ek string ko reverse karna chahtay ho, toh hum simple\n",
        "\n",
        "loops ya built-in functions ka use kar saktay hain."
      ],
      "metadata": {
        "id": "82OMZiIDGBlB"
      }
    },
    {
      "cell_type": "markdown",
      "source": [
        "🔹 Approach 1: Using a Loop\n"
      ],
      "metadata": {
        "id": "xAgxFDpCGQ25"
      }
    },
    {
      "cell_type": "markdown",
      "source": [
        "Is method mein hum ek for loop use karte hain jo string ke characters ko reverse order mein nikal kar ek naye variable mein store karta hai."
      ],
      "metadata": {
        "id": "ZKmmShtWGWmV"
      }
    },
    {
      "cell_type": "code",
      "source": [
        "def reverse_string(s):\n",
        "    reversed_str = \"\"  # Empty string to store reversed characters\n",
        "    for char in s:\n",
        "        reversed_str = char + reversed_str  # Prepend each character\n",
        "    return reversed_str\n",
        "\n",
        "# Example\n",
        "text = \"Hiba\"\n",
        "print(reverse_string(text))  # Output: \"abiH\"\n"
      ],
      "metadata": {
        "colab": {
          "base_uri": "https://localhost:8080/"
        },
        "id": "wZeUo471GZb5",
        "outputId": "486aa685-ab0d-4e16-ffe1-1f7d45a8e554"
      },
      "execution_count": 1,
      "outputs": [
        {
          "output_type": "stream",
          "name": "stdout",
          "text": [
            "abiH\n"
          ]
        }
      ]
    },
    {
      "cell_type": "markdown",
      "source": [
        "📝 Explanation:\n",
        "\n",
        "\n",
        "1. Humne ek empty string reversed_str banayi.\n",
        "\n",
        "2. Loop chalayenge jo har character ko start se pick karega.\n",
        "\n",
        "3. Har naye character ko reversed_str ke start mein add karenge (prepend).\n",
        "\n",
        "4. End mein humein ek reversed string mil jayegi."
      ],
      "metadata": {
        "id": "zfexj0eCGf4E"
      }
    },
    {
      "cell_type": "markdown",
      "source": [
        "🔹 Approach 2: Using Python Slicing ([::-1])"
      ],
      "metadata": {
        "id": "f1vHzpK7Gmpa"
      }
    },
    {
      "cell_type": "markdown",
      "source": [
        "Python slicing ka use karke bhi asani se string ko reverse kiya ja sakta hai.\n",
        "\n",
        "\n"
      ],
      "metadata": {
        "id": "E4WRsitDGysL"
      }
    },
    {
      "cell_type": "code",
      "source": [
        "def reverse_string(s):\n",
        "    return s[::-1]  # Reverse the string using slicing\n",
        "\n",
        "# Example\n",
        "text = \"Hiba\"\n",
        "print(reverse_string(text))  # Output: \"abiH\"\n"
      ],
      "metadata": {
        "colab": {
          "base_uri": "https://localhost:8080/"
        },
        "id": "_PRdGHi6G3-i",
        "outputId": "baf7aa97-aeeb-4634-c2f7-46eb1db4af00"
      },
      "execution_count": 2,
      "outputs": [
        {
          "output_type": "stream",
          "name": "stdout",
          "text": [
            "abiH\n"
          ]
        }
      ]
    },
    {
      "cell_type": "markdown",
      "source": [
        "📝 Explanation:\n",
        "\n",
        " 1. [::-1] ka matlab hai ki hum string ko end se start tak read kar rahe hain.\n",
        "\n",
        "2. Yeh ek efficient aur simple method hai."
      ],
      "metadata": {
        "id": "I2053m6fG80Z"
      }
    },
    {
      "cell_type": "markdown",
      "source": [
        "🔹 Approach 3: Using join() and reversed()"
      ],
      "metadata": {
        "id": "yaAFdhRpHICw"
      }
    },
    {
      "cell_type": "markdown",
      "source": [
        "Agar tum built-in functions ka use karna chahti ho, toh reversed() function aur join() ka combination bhi use kar sakti ho."
      ],
      "metadata": {
        "id": "NunIwwIfHLff"
      }
    },
    {
      "cell_type": "code",
      "source": [
        "def reverse_string(s):\n",
        "    return ''.join(reversed(s))  # Convert reversed object to string\n",
        "\n",
        "# Example\n",
        "text = \"Hiba\"\n",
        "print(reverse_string(text))  # Output: \"abiH\"\n"
      ],
      "metadata": {
        "colab": {
          "base_uri": "https://localhost:8080/"
        },
        "id": "C4q7IjHyHNzy",
        "outputId": "8961b578-f250-4db7-fd1f-950cb4d9ed62"
      },
      "execution_count": 3,
      "outputs": [
        {
          "output_type": "stream",
          "name": "stdout",
          "text": [
            "abiH\n"
          ]
        }
      ]
    },
    {
      "cell_type": "markdown",
      "source": [
        "📝 Explanation:\n",
        "\n",
        "\n",
        "1. reversed(s) ek iterator return karta hai jo string ko reverse kar deta hai.\n",
        "\n",
        "2. ''.join(reversed(s)) ka matlab hai ki reversed characters ko ek new string mein jod diya.\n",
        "\n"
      ],
      "metadata": {
        "id": "5XaGqSN6HR7F"
      }
    },
    {
      "cell_type": "markdown",
      "source": [
        "🔹 Approach 4: Using a while Loop"
      ],
      "metadata": {
        "id": "mdh7tK--HYxY"
      }
    },
    {
      "cell_type": "markdown",
      "source": [
        "Agar tum for loop ki jagah while loop use karna chahti ho, toh yeh approach follow kar sakti ho:"
      ],
      "metadata": {
        "id": "1b44j1xYHbmm"
      }
    },
    {
      "cell_type": "code",
      "source": [
        "def reverse_string(s):\n",
        "    reversed_str = \"\"\n",
        "    i = len(s) - 1  # Last index of string\n",
        "    while i >= 0:\n",
        "        reversed_str += s[i]  # Append character from end to start\n",
        "        i -= 1  # Move to previous character\n",
        "    return reversed_str\n",
        "\n",
        "# Example\n",
        "text = \"Hiba\"\n",
        "print(reverse_string(text))  # Output: \"abiH\"\n"
      ],
      "metadata": {
        "colab": {
          "base_uri": "https://localhost:8080/"
        },
        "id": "ebQ6YmHQHfDj",
        "outputId": "0fec4fb5-962a-4379-92d8-4b0af179515a"
      },
      "execution_count": 4,
      "outputs": [
        {
          "output_type": "stream",
          "name": "stdout",
          "text": [
            "abiH\n"
          ]
        }
      ]
    },
    {
      "cell_type": "markdown",
      "source": [
        "📝 Explanation:\n",
        "\n",
        "1. i ko last index pe set kiya (i.e., len(s) - 1).\n",
        "\n",
        "2. while loop tab tak chalayenge jab tak i >= 0 ho.\n",
        "\n",
        "3. Har iteration mein reversed_str ke andar ek character add karte jayenge.\n",
        "\n"
      ],
      "metadata": {
        "id": "vSc_dH_1Hj55"
      }
    },
    {
      "cell_type": "markdown",
      "source": [
        "📌 Conclusion\n",
        "\n",
        "\n",
        ". Loop approach (for ya while) iterative solution hai.\n",
        "\n",
        ". Slicing approach ([::-1]) Python ka simplest aur fast solution hai.\n",
        "\n",
        ". reversed() function bhi ek achha tarika hai agar readability zaroori ho."
      ],
      "metadata": {
        "id": "JD68n2iyHtz5"
      }
    }
  ]
}